{
  "nbformat": 4,
  "nbformat_minor": 0,
  "metadata": {
    "colab": {
      "provenance": [],
      "authorship_tag": "ABX9TyNQCbRxl1xGFnae+iszW4CU",
      "include_colab_link": true
    },
    "kernelspec": {
      "name": "python3",
      "display_name": "Python 3"
    },
    "language_info": {
      "name": "python"
    }
  },
  "cells": [
    {
      "cell_type": "markdown",
      "metadata": {
        "id": "view-in-github",
        "colab_type": "text"
      },
      "source": [
        "<a href=\"https://colab.research.google.com/github/Ximena-Elizabeth-Dominguez-Morales/Simulacion/blob/main/Pruebas_estad%C3%ADstica_de_uniformidad_de_Kolmogorov_Smirnov.ipynb\" target=\"_parent\"><img src=\"https://colab.research.google.com/assets/colab-badge.svg\" alt=\"Open In Colab\"/></a>"
      ]
    },
    {
      "cell_type": "markdown",
      "source": [
        "#Simulación\n",
        "##Pruebas estadística de uniformidad de Kolmogorov-Smirnov\n",
        "###Alumna: Dominguez Morales Ximena Elizabeth\n",
        "###Profesor: Rodriguez Rivas Jose Gabriel"
      ],
      "metadata": {
        "id": "0JOkkQJTFsNJ"
      }
    },
    {
      "cell_type": "code",
      "source": [
        "import numpy as np\n",
        "import scipy.stats as stats\n",
        "\n",
        "def generar_numeros_aleatorios(n=100):\n",
        "    return np.random.uniform(0, 1, n)\n",
        "\n",
        "def prueba_kolmogorov_smirnov(datos):\n",
        "    estadistico, p_valor = stats.kstest(datos, 'uniform', args=(0, 1))\n",
        "    return estadistico, p_valor\n",
        "\n",
        "np.random.seed(42)\n",
        "datos = generar_numeros_aleatorios()\n",
        "\n",
        "print(\"Números generados:\")\n",
        "print(datos)\n",
        "\n",
        "estadistico, p_valor = prueba_kolmogorov_smirnov(datos)\n",
        "\n",
        "print(f\"\\nEstadístico de Kolmogorov-Smirnov: {estadistico:.4f}\")\n",
        "print(f\"Valor p: {p_valor:.4f}\")\n",
        "\n",
        "if p_valor > 0.05:\n",
        "    print(\"No se puede rechazar la hipótesis nula: los datos siguen una distribución uniforme.\")\n",
        "else:\n",
        "    print(\"Se rechaza la hipótesis nula: los datos no siguen una distribución uniforme.\")\n"
      ],
      "metadata": {
        "colab": {
          "base_uri": "https://localhost:8080/"
        },
        "id": "r1Z486ULFySV",
        "outputId": "b6f387c5-5322-45c3-ccaa-8def2cc6c398"
      },
      "execution_count": 6,
      "outputs": [
        {
          "output_type": "stream",
          "name": "stdout",
          "text": [
            "Números generados:\n",
            "[0.37454012 0.95071431 0.73199394 0.59865848 0.15601864 0.15599452\n",
            " 0.05808361 0.86617615 0.60111501 0.70807258 0.02058449 0.96990985\n",
            " 0.83244264 0.21233911 0.18182497 0.18340451 0.30424224 0.52475643\n",
            " 0.43194502 0.29122914 0.61185289 0.13949386 0.29214465 0.36636184\n",
            " 0.45606998 0.78517596 0.19967378 0.51423444 0.59241457 0.04645041\n",
            " 0.60754485 0.17052412 0.06505159 0.94888554 0.96563203 0.80839735\n",
            " 0.30461377 0.09767211 0.68423303 0.44015249 0.12203823 0.49517691\n",
            " 0.03438852 0.9093204  0.25877998 0.66252228 0.31171108 0.52006802\n",
            " 0.54671028 0.18485446 0.96958463 0.77513282 0.93949894 0.89482735\n",
            " 0.59789998 0.92187424 0.0884925  0.19598286 0.04522729 0.32533033\n",
            " 0.38867729 0.27134903 0.82873751 0.35675333 0.28093451 0.54269608\n",
            " 0.14092422 0.80219698 0.07455064 0.98688694 0.77224477 0.19871568\n",
            " 0.00552212 0.81546143 0.70685734 0.72900717 0.77127035 0.07404465\n",
            " 0.35846573 0.11586906 0.86310343 0.62329813 0.33089802 0.06355835\n",
            " 0.31098232 0.32518332 0.72960618 0.63755747 0.88721274 0.47221493\n",
            " 0.11959425 0.71324479 0.76078505 0.5612772  0.77096718 0.4937956\n",
            " 0.52273283 0.42754102 0.02541913 0.10789143]\n",
            "\n",
            "Estadístico de Kolmogorov-Smirnov: 0.0803\n",
            "Valor p: 0.5130\n",
            "No se puede rechazar la hipótesis nula: los datos siguen una distribución uniforme.\n"
          ]
        }
      ]
    }
  ]
}