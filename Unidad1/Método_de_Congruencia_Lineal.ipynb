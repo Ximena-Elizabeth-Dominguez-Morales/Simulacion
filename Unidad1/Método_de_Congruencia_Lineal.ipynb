{
  "nbformat": 4,
  "nbformat_minor": 0,
  "metadata": {
    "colab": {
      "provenance": [],
      "authorship_tag": "ABX9TyN620RjYi1NsN2P1iElNb8l",
      "include_colab_link": true
    },
    "kernelspec": {
      "name": "python3",
      "display_name": "Python 3"
    },
    "language_info": {
      "name": "python"
    }
  },
  "cells": [
    {
      "cell_type": "markdown",
      "metadata": {
        "id": "view-in-github",
        "colab_type": "text"
      },
      "source": [
        "<a href=\"https://colab.research.google.com/github/Ximena-Elizabeth-Dominguez-Morales/Simulacion/blob/main/M%C3%A9todo_de_Congruencia_Lineal.ipynb\" target=\"_parent\"><img src=\"https://colab.research.google.com/assets/colab-badge.svg\" alt=\"Open In Colab\"/></a>"
      ]
    },
    {
      "cell_type": "markdown",
      "source": [
        "#Simulación\n",
        "###100 números aleatorios con el método de Congruencia Lineal\n",
        "\n",
        "###Ximena Elizabeth Dominguez Morales"
      ],
      "metadata": {
        "id": "GpCPPvncaeIJ"
      }
    },
    {
      "cell_type": "code",
      "source": [
        "def generador_congruencial_lineal(semilla, a, c, m):\n",
        "  numeros_aleatorios = []\n",
        "  x = semilla\n",
        "  for _ in range(100):\n",
        "    x = (a * x + c) % m\n",
        "    numeros_aleatorios.append(x)\n",
        "  return numeros_aleatorios\n"
      ],
      "metadata": {
        "id": "JBJMZUtYa0-i"
      },
      "execution_count": 3,
      "outputs": []
    },
    {
      "cell_type": "code",
      "source": [
        "semilla = 98765\n",
        "a = 7\n",
        "c = 4\n",
        "m = 28\n",
        "numeros_aleatorios = generador_congruencial_lineal(semilla, a, c, m)\n",
        "\n",
        "print(\"Números aleatorios generados:\")\n",
        "print(numeros_aleatorios)"
      ],
      "metadata": {
        "colab": {
          "base_uri": "https://localhost:8080/"
        },
        "id": "rkf9Ia43bPwh",
        "outputId": "c6c23f4a-f26b-4d21-88bf-145f0141134c"
      },
      "execution_count": 7,
      "outputs": [
        {
          "output_type": "stream",
          "name": "stdout",
          "text": [
            "Números aleatorios generados:\n",
            "[11, 25, 11, 25, 11, 25, 11, 25, 11, 25, 11, 25, 11, 25, 11, 25, 11, 25, 11, 25, 11, 25, 11, 25, 11, 25, 11, 25, 11, 25, 11, 25, 11, 25, 11, 25, 11, 25, 11, 25, 11, 25, 11, 25, 11, 25, 11, 25, 11, 25, 11, 25, 11, 25, 11, 25, 11, 25, 11, 25, 11, 25, 11, 25, 11, 25, 11, 25, 11, 25, 11, 25, 11, 25, 11, 25, 11, 25, 11, 25, 11, 25, 11, 25, 11, 25, 11, 25, 11, 25, 11, 25, 11, 25, 11, 25, 11, 25, 11, 25]\n"
          ]
        }
      ]
    }
  ]
}